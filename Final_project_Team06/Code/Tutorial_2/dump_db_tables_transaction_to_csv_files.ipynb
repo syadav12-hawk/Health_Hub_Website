{
 "cells": [
  {
   "cell_type": "code",
   "execution_count": 4,
   "metadata": {},
   "outputs": [],
   "source": [
    "import contextlib\n",
    "import csv\n",
    "import datetime\n",
    "import os\n",
    "import pymysql\n",
    "\n",
    "TRANSACTIONS_SQL_QUERY = \"\"\"\n",
    "SELECT * FROM transactions;\n",
    "\"\"\"\n",
    "\n",
    "\n",
    "connection = pymysql.connect(host='localhost',\n",
    "                             user='root',\n",
    "                             password='root',\n",
    "                             db='gamespeed')\n",
    "\n",
    "\n",
    "\n"
   ]
  },
  {
   "cell_type": "code",
   "execution_count": 5,
   "metadata": {},
   "outputs": [],
   "source": [
    "with contextlib.closing(connection):\n",
    "    with connection.cursor() as cursor:\n",
    "        cursor.execute(TRANSACTIONS_SQL_QUERY)\n",
    "        transaction_results = cursor.fetchall()\n",
    "\n",
    "\n",
    "transaction_output_file = 'transactions-{}.csv'.format(datetime.datetime.today().strftime('%Y-%m-%d'))\n",
    "with open(transaction_output_file, 'w', newline='') as csvfile:\n",
    "    csv_writer = csv.writer(csvfile, lineterminator='\\n')\n",
    "    csv_writer.writerow([i[0] for i in cursor.description]) # write headers\n",
    "    csv_writer.writerows(transaction_results)"
   ]
  },
  {
   "cell_type": "code",
   "execution_count": null,
   "metadata": {},
   "outputs": [],
   "source": [
    "#C:\\Users\\soura\\AppData\\Local\\Neo4j\\Relate\\Data\\dbmss\\dbms-c38e60c9-0b5f-4a04-bfd8-5b079df3c5ef\\import"
   ]
  },
  {
   "cell_type": "code",
   "execution_count": null,
   "metadata": {},
   "outputs": [],
   "source": []
  },
  {
   "cell_type": "code",
   "execution_count": null,
   "metadata": {},
   "outputs": [],
   "source": []
  },
  {
   "cell_type": "code",
   "execution_count": null,
   "metadata": {},
   "outputs": [],
   "source": []
  },
  {
   "cell_type": "code",
   "execution_count": null,
   "metadata": {},
   "outputs": [],
   "source": []
  },
  {
   "cell_type": "code",
   "execution_count": null,
   "metadata": {},
   "outputs": [],
   "source": []
  },
  {
   "cell_type": "code",
   "execution_count": null,
   "metadata": {},
   "outputs": [],
   "source": []
  }
 ],
 "metadata": {
  "kernelspec": {
   "display_name": "Python 3",
   "language": "python",
   "name": "python3"
  },
  "language_info": {
   "codemirror_mode": {
    "name": "ipython",
    "version": 3
   },
   "file_extension": ".py",
   "mimetype": "text/x-python",
   "name": "python",
   "nbconvert_exporter": "python",
   "pygments_lexer": "ipython3",
   "version": "3.8.5"
  }
 },
 "nbformat": 4,
 "nbformat_minor": 4
}
