{
 "cells": [
  {
   "cell_type": "code",
   "execution_count": 2,
   "metadata": {},
   "outputs": [],
   "source": [
    "from neo4j import GraphDatabase"
   ]
  },
  {
   "cell_type": "code",
   "execution_count": 15,
   "metadata": {
    "scrolled": true
   },
   "outputs": [],
   "source": [
    "driver = GraphDatabase.driver(\"bolt://localhost\", auth=(\"neo4j\", \"root\"),encrypted=False)"
   ]
  },
  {
   "cell_type": "code",
   "execution_count": 16,
   "metadata": {},
   "outputs": [],
   "source": [
    "session=driver.session()"
   ]
  },
  {
   "cell_type": "code",
   "execution_count": 19,
   "metadata": {},
   "outputs": [],
   "source": [
    "query=\"\"\"LOAD CSV WITH HEADERS FROM 'file:///transactions-2020-12-03.csv' AS line\n",
    "        MERGE (c:Customer {name:line.Customer_name, age:line.Customer_Age,id:line.loginID,occupation:line.Customer_Occupation,creditcard:line.Credit_Card_Number})\n",
    "        MERGE (p:Product {name:line.Product_Name, productid:line.Product_ID,productCategory:line.Category})\n",
    "        MERGE (m:Manufacturer {name:line.Manufacturer})\n",
    "        MERGE (o:Order {orderID:line.Order_ID,orderDate:line.Order_Date})\n",
    "        MERGE (d:Delivery {deliveryID:line.Delivery_Tracking_ID,deliveryDate:line.Expected_Delivery_Date,deliveryType:line.Delivery_Type,deliveryZip:line.Delivery_Zip_Code}) \n",
    "        \n",
    "        MERGE (c)-[:BOUGHT {bought_on:line.Order_Date}]->(p)\n",
    "        MERGE (m)-[:FIELD]->(p)\n",
    "        MERGE (c)-[:PLACED_ORDER {order_rating:line.Review_Rating,transaction_status:line.Transaction_Status,order_return:line.Order_Returned,order_on_time:line.Order_Delivered_on_Time}]->(o)\n",
    "        MERGE (o)-[:HAS_DELIVERY]->(d)\n",
    "        \"\"\""
   ]
  },
  {
   "cell_type": "code",
   "execution_count": 20,
   "metadata": {},
   "outputs": [
    {
     "data": {
      "text/plain": [
       "<neo4j.work.result.Result at 0x28261504a30>"
      ]
     },
     "execution_count": 20,
     "metadata": {},
     "output_type": "execute_result"
    }
   ],
   "source": [
    "session.run(query)"
   ]
  },
  {
   "cell_type": "code",
   "execution_count": null,
   "metadata": {},
   "outputs": [],
   "source": [
    "#1.Get the number of transactions that were NOT delivered on time for every Delivery Zip Code \n",
    "MATCH (customer:Customer)-[transaction:PLACED_ORDER]->(order) \n",
    "WHERE transaction.order_rating = \"5\"\n",
    "MATCH (customer)-[:HAS_DELIVERY]->(delivery)\n",
    "WITH customer, order, transaction,delivery\n",
    "RETURN DISTINCT delivery.deliveryZip AS `DELIVERY ZIP CODES`, count(DISTINCT transaction)\n",
    "AS `Not Delivered Transactions`"
   ]
  },
  {
   "cell_type": "code",
   "execution_count": null,
   "metadata": {},
   "outputs": [],
   "source": [
    "#1.Get the number of transactions that were NOT delivered on time for every Delivery Zip Code \n",
    "MATCH (customer:Customer)-[transaction:PLACED_ORDER]->(order) \n",
    "WHERE transaction.order_on_time = \"1\"\n",
    "MATCH (order)-[:HAS_DELIVERY]->(delivery)\n",
    "WITH customer, order, transaction,delivery\n",
    "RETURN DISTINCT delivery.deliveryZip AS `DELIVERY ZIP CODES`, count(DISTINCT transaction)\n",
    "AS `Not Delivered Transactions`"
   ]
  },
  {
   "cell_type": "code",
   "execution_count": null,
   "metadata": {},
   "outputs": [],
   "source": [
    "#2.Get the number of disputed transactions and the list of customer names for these disputed transactions for Delivery Zip Code\n",
    "MATCH (customer:Customer)-[transaction:PLACED_ORDER]->(order) \n",
    "WHERE transaction.transaction_status =\"1\"\n",
    "MATCH (order)-[:HAS_DELIVERY]->(delivery)\n",
    "WITH customer, order, transaction,delivery\n",
    "RETURN DISTINCT delivery.deliveryZip AS `DELIVERY ZIP CODES`, count(DISTINCT transaction)\n",
    "AS Count, collect(DISTINCT customer.name) AS Customer"
   ]
  },
  {
   "cell_type": "code",
   "execution_count": null,
   "metadata": {},
   "outputs": [],
   "source": [
    "#3.Get the number of disputed transactions for EVERY CUSTOMER that has more that one disputed transaction \n",
    "MATCH (customer:Customer)-[transaction:PLACED_ORDER]->(order)\n",
    "WHERE transaction.transaction_status = \"1\"\n",
    "WITH customer, count(*) AS number_of_disputed_transactions\n",
    "WHERE number_of_disputed_transactions > 1\n",
    "RETURN customer.name AS Customer, number_of_disputed_transactions "
   ]
  },
  {
   "cell_type": "code",
   "execution_count": null,
   "metadata": {},
   "outputs": [],
   "source": [
    "#4.Get the top 3 customers that reported the maximum number of returned orders \n",
    "MATCH (customer:Customer)-[transaction:PLACED_ORDER]->(order)\n",
    "WHERE transaction.order_return = \"1\"\n",
    "WITH customer, count(*) AS number_of_returned_transactions\n",
    "WHERE number_of_returned_transactions > 0\n",
    "WITH customer, number_of_returned_transactions\n",
    "ORDER BY number_of_returned_transactions DESC LIMIT 3\n",
    "RETURN customer.name AS Customer, number_of_returned_transactions"
   ]
  },
  {
   "cell_type": "code",
   "execution_count": null,
   "metadata": {},
   "outputs": [],
   "source": [
    "#5.Get the number of returned orders and got review rating 1 for every product category in every Delivery Zip Code\n",
    "MATCH (customer:Customer)-[transaction:PLACED_ORDER]->(order)\n",
    "WHERE transaction.order_return = \"1\" AND transaction.order_rating = '1'\n",
    "MATCH (order)-[:HAS_DELIVERY]->(delivery)\n",
    "WITH customer, order, transaction,delivery\n",
    "RETURN DISTINCT delivery.deliveryZip AS `DELIVERY ZIP CODES`, count(DISTINCT transaction)\n",
    "AS `Not Delivered Transactions`, transaction.order_rating AS `Review Rating`"
   ]
  },
  {
   "cell_type": "code",
   "execution_count": null,
   "metadata": {},
   "outputs": [],
   "source": []
  },
  {
   "cell_type": "code",
   "execution_count": null,
   "metadata": {},
   "outputs": [],
   "source": []
  },
  {
   "cell_type": "code",
   "execution_count": null,
   "metadata": {},
   "outputs": [],
   "source": []
  },
  {
   "cell_type": "code",
   "execution_count": null,
   "metadata": {},
   "outputs": [],
   "source": []
  },
  {
   "cell_type": "code",
   "execution_count": null,
   "metadata": {},
   "outputs": [],
   "source": []
  },
  {
   "cell_type": "code",
   "execution_count": null,
   "metadata": {},
   "outputs": [],
   "source": []
  },
  {
   "cell_type": "code",
   "execution_count": null,
   "metadata": {},
   "outputs": [],
   "source": []
  },
  {
   "cell_type": "code",
   "execution_count": null,
   "metadata": {},
   "outputs": [],
   "source": []
  },
  {
   "cell_type": "code",
   "execution_count": null,
   "metadata": {},
   "outputs": [],
   "source": []
  },
  {
   "cell_type": "code",
   "execution_count": null,
   "metadata": {},
   "outputs": [],
   "source": []
  },
  {
   "cell_type": "code",
   "execution_count": null,
   "metadata": {},
   "outputs": [],
   "source": []
  },
  {
   "cell_type": "code",
   "execution_count": null,
   "metadata": {},
   "outputs": [],
   "source": []
  },
  {
   "cell_type": "code",
   "execution_count": null,
   "metadata": {},
   "outputs": [],
   "source": []
  },
  {
   "cell_type": "code",
   "execution_count": null,
   "metadata": {},
   "outputs": [],
   "source": []
  },
  {
   "cell_type": "code",
   "execution_count": null,
   "metadata": {},
   "outputs": [],
   "source": []
  }
 ],
 "metadata": {
  "kernelspec": {
   "display_name": "Python 3",
   "language": "python",
   "name": "python3"
  },
  "language_info": {
   "codemirror_mode": {
    "name": "ipython",
    "version": 3
   },
   "file_extension": ".py",
   "mimetype": "text/x-python",
   "name": "python",
   "nbconvert_exporter": "python",
   "pygments_lexer": "ipython3",
   "version": "3.8.5"
  }
 },
 "nbformat": 4,
 "nbformat_minor": 2
}
